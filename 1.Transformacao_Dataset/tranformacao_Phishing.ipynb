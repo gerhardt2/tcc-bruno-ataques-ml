{
 "cells": [
  {
   "metadata": {
    "ExecuteTime": {
     "end_time": "2025-09-24T21:30:08.888056Z",
     "start_time": "2025-09-24T21:29:43.625064Z"
    }
   },
   "cell_type": "code",
   "source": [
    "import pandas as pd\n",
    "import os\n",
    "import re\n",
    "import json\n",
    "import scipy.sparse\n",
    "from sklearn.feature_extraction.text import CountVectorizer\n",
    "from sklearn.ensemble import RandomForestClassifier\n",
    "from sklearn.model_selection import cross_val_score, StratifiedKFold\n",
    "\n",
    "# =====================================================\n",
    "# 1) Leitura do dataset\n",
    "# =====================================================\n",
    "print(\"Diretório atual:\", os.getcwd())\n",
    "print(\"Arquivos na pasta datasets:\", os.listdir(\"../datasets\"))\n",
    "\n",
    "try:\n",
    "    df = pd.read_csv(\"../datasets/phishing.csv\", encoding=\"utf-8\")\n",
    "except UnicodeDecodeError:\n",
    "    df = pd.read_csv(\"../datasets/phishing.csv\", encoding=\"ISO-8859-1\")\n",
    "\n",
    "print(\"Dimensão inicial do dataset:\", df.shape)\n",
    "\n",
    "# =====================================================\n",
    "# 2) Prepara rótulos (y) e textos (corpus)\n",
    "# =====================================================\n",
    "# Converte 'Email Type' em dummies\n",
    "df = pd.get_dummies(df, columns=['Email Type'])\n",
    "# Rótulo: phishing = 1, seguro = 0\n",
    "y = df['Email Type_Phishing Email']\n",
    "\n",
    "# Corpus: texto dos e-mails, com limpeza\n",
    "corpus = df['Email Text'].astype(str).apply(\n",
    "    lambda x: re.sub(r'[^a-zA-Z0-9áéíóúãõâêôçÁÉÍÓÚÃÕÂÊÔÇ\\s]', '', x.lower())\n",
    ")\n",
    "\n",
    "# =====================================================\n",
    "# 3) Bag of Words (CountVectorizer)\n",
    "# =====================================================\n",
    "count_vectorizer = CountVectorizer(\n",
    "    lowercase=True,\n",
    "    max_features=5000,  # limita vocabulário\n",
    "    min_df=5,           # ignora palavras raras\n",
    "    max_df=0.8          # ignora palavras muito comuns\n",
    ")\n",
    "X_count = count_vectorizer.fit_transform(corpus)\n",
    "print(\"Formato CountVectorizer:\", X_count.shape)\n",
    "\n",
    "# =====================================================\n",
    "# 4) Validação cruzada com RandomForest\n",
    "# =====================================================\n",
    "modelo_rf = RandomForestClassifier(n_estimators=100, random_state=42)\n",
    "\n",
    "kfold = StratifiedKFold(n_splits=5, shuffle=True, random_state=42)\n",
    "scores = cross_val_score(modelo_rf, X_count, y, cv=kfold, scoring='accuracy', n_jobs=-1)\n",
    "\n",
    "print(f\"\\n Bag of Words (CountVectorizer) + RandomForest\")\n",
    "print(f\"Acurácia média: {scores.mean():.4f}\")\n",
    "print(f\"Desvio padrão: {scores.std():.4f}\")\n",
    "print(f\"Scores individuais: {scores}\")\n",
    "\n",
    "# =====================================================\n",
    "# 5) Salvar representação e vocabulário\n",
    "# =====================================================\n",
    "scipy.sparse.save_npz(\"../datasets/phishing_bow_count.npz\", X_count)\n",
    "\n",
    "with open(\"../datasets/phishing_bow_vocab.json\", \"w\", encoding=\"utf-8\") as f:\n",
    "    json.dump(count_vectorizer.get_feature_names_out().tolist(), f, ensure_ascii=False, indent=2)\n",
    "\n",
    "print(\"\\n Pipeline concluído! Representações salvas em '../datasets/'\")\n"
   ],
   "id": "f5acffc1234e0eb4",
   "outputs": [
    {
     "name": "stdout",
     "output_type": "stream",
     "text": [
      "Diretório atual: C:\\Users\\Bruno\\OneDrive\\TCC\\PythonProject\\1.Transformacao_Dataset\n",
      "Arquivos na pasta datasets: ['DDoS.csv', 'phishing.csv', 'phishing_bow_count.npz', 'phishing_bow_vocab.json', 'phishing_tfidf.npz', 'phishing_tfidf_vocab.json', 'phishing_transformed.csv', 'ransomware.csv']\n",
      "Dimensão inicial do dataset: (18650, 3)\n",
      "Formato CountVectorizer: (18650, 5000)\n",
      "\n",
      " Bag of Words (CountVectorizer) + RandomForest\n",
      "Acurácia média: 0.9614\n",
      "Desvio padrão: 0.0022\n",
      "Scores individuais: [0.96032172 0.96380697 0.95898123 0.95951743 0.96434316]\n",
      "\n",
      " Pipeline concluído! Representações salvas em '../datasets/'\n"
     ]
    }
   ],
   "execution_count": 1
  }
 ],
 "metadata": {
  "kernelspec": {
   "display_name": "Python 3",
   "language": "python",
   "name": "python3"
  },
  "language_info": {
   "codemirror_mode": {
    "name": "ipython",
    "version": 2
   },
   "file_extension": ".py",
   "mimetype": "text/x-python",
   "name": "python",
   "nbconvert_exporter": "python",
   "pygments_lexer": "ipython2",
   "version": "2.7.6"
  }
 },
 "nbformat": 4,
 "nbformat_minor": 5
}
