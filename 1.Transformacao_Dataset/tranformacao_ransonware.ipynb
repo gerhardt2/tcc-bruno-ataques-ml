{
 "cells": [
  {
   "cell_type": "code",
   "id": "initial_id",
   "metadata": {
    "collapsed": true,
    "ExecuteTime": {
     "end_time": "2025-09-21T17:28:31.336082Z",
     "start_time": "2025-09-21T17:27:54.365284Z"
    }
   },
   "source": [
    "import pandas as pd\n",
    "import matplotlib.pyplot as plt\n",
    "from sklearn.ensemble import RandomForestClassifier\n",
    "import os\n",
    "\n",
    "# Caminho relativo\n",
    "caminho_ransom = \"../datasets/ransomware.csv\"\n",
    "\n",
    "# Leitura\n",
    "try:\n",
    "    df_ransom = pd.read_csv(caminho_ransom, encoding=\"utf-8\")\n",
    "except UnicodeDecodeError:\n",
    "    df_ransom = pd.read_csv(caminho_ransom, encoding=\"ISO-8859-1\")\n",
    "\n",
    "# Preview\n",
    "print(df_ransom.head())\n",
    "\n",
    "# Colunas categóricas\n",
    "colunas_nao_numericas = df_ransom.select_dtypes(include=['object']).columns.tolist()\n",
    "print(\"Colunas não numéricas:\", colunas_nao_numericas)\n",
    "\n",
    "# Dummies\n",
    "df_dummies = pd.get_dummies(df_ransom, columns=colunas_nao_numericas)\n",
    "\n",
    "# Coluna alvo\n",
    "coluna_alvo = [col for col in df_dummies.columns if 'attack' in col.lower() or 'label' in col.lower()]\n",
    "if not coluna_alvo:\n",
    "    raise ValueError(\"Nenhuma coluna 'attack' ou 'label' detectada.\")\n",
    "coluna_alvo = coluna_alvo[0]\n",
    "\n",
    "# Separar X e y\n",
    "y_ransom = df_dummies[coluna_alvo]\n",
    "X_ransom = df_dummies.drop(columns=[coluna_alvo])\n",
    "\n",
    "# Treinamento\n",
    "modelo = RandomForestClassifier(n_estimators=100, random_state=42)\n",
    "modelo.fit(X_ransom, y_ransom)\n",
    "\n",
    "# Importância\n",
    "importancias = pd.Series(modelo.feature_importances_, index=X_ransom.columns).sort_values(ascending=False)\n",
    "\n",
    "# Plot\n",
    "importancias.head(10).plot(kind='barh')\n",
    "plt.title(\"Top 10 Importâncias - Ransomware\")\n",
    "plt.gca().invert_yaxis()\n",
    "plt.tight_layout()\n",
    "plt.show()\n"
   ],
   "outputs": [
    {
     "name": "stdout",
     "output_type": "stream",
     "text": [
      "                                            FileName  \\\n",
      "0           0124e21d-018c-4ce0-92a3-b9e205a76bc0.dll   \n",
      "1       05c8318f98a5d301d80000009c316005.vertdll.dll   \n",
      "2           06054fba-5619-4a86-a861-ffb0464bef5d.dll   \n",
      "3        075822ac99a5d301660400009c316005.adhapi.dll   \n",
      "4  090607dd9ba5d301ca0900009c316005.SensorsNative...   \n",
      "\n",
      "                            md5Hash  Machine  DebugSize  DebugRVA  \\\n",
      "0  79755c51e413ed3c6be4635fd729a6e1      332          0         0   \n",
      "1  95e19f3657d34a432eada93221b0ea16    34404         84    121728   \n",
      "2  85c32641d77a54e19ba8ea4ab305c791      332          0         0   \n",
      "3  62e3b959d982ef534b66f819fe15f085    34404         84     19904   \n",
      "4  ae38c5f7d313ad0ff3bfb8826476767f    34404         84     97728   \n",
      "\n",
      "   MajorImageVersion  MajorOSVersion  ExportRVA  ExportSize  IatVRA  \\\n",
      "0                  0               4          0           0    8192   \n",
      "1                 10              10     126576        4930       0   \n",
      "2                  0               4          0           0    8192   \n",
      "3                 10              10      21312         252   18160   \n",
      "4                 10              10     105792        1852   70592   \n",
      "\n",
      "   MajorLinkerVersion  MinorLinkerVersion  NumberOfSections  \\\n",
      "0                   8                   0                 3   \n",
      "1                  14                  10                 8   \n",
      "2                   8                   0                 3   \n",
      "3                  14                  10                 6   \n",
      "4                  14                  10                 7   \n",
      "\n",
      "   SizeOfStackReserve  DllCharacteristics  ResourceSize  BitcoinAddresses  \\\n",
      "0             1048576               34112           672                 0   \n",
      "1              262144               16864          1024                 0   \n",
      "2             1048576               34112           672                 0   \n",
      "3              262144               16736          1040                 0   \n",
      "4              262144               16736          1096                 0   \n",
      "\n",
      "   Benign  \n",
      "0       1  \n",
      "1       1  \n",
      "2       1  \n",
      "3       1  \n",
      "4       1  \n",
      "Colunas não numéricas: ['FileName', 'md5Hash']\n"
     ]
    },
    {
     "ename": "MemoryError",
     "evalue": "Unable to allocate 29.1 GiB for an array with shape (124985, 62485) and data type float32",
     "output_type": "error",
     "traceback": [
      "\u001B[31m---------------------------------------------------------------------------\u001B[39m",
      "\u001B[31mMemoryError\u001B[39m                               Traceback (most recent call last)",
      "\u001B[36mCell\u001B[39m\u001B[36m \u001B[39m\u001B[32mIn[1]\u001B[39m\u001B[32m, line 37\u001B[39m\n\u001B[32m     35\u001B[39m \u001B[38;5;66;03m# Treinamento\u001B[39;00m\n\u001B[32m     36\u001B[39m modelo = RandomForestClassifier(n_estimators=\u001B[32m100\u001B[39m, random_state=\u001B[32m42\u001B[39m)\n\u001B[32m---> \u001B[39m\u001B[32m37\u001B[39m \u001B[43mmodelo\u001B[49m\u001B[43m.\u001B[49m\u001B[43mfit\u001B[49m\u001B[43m(\u001B[49m\u001B[43mX_ransom\u001B[49m\u001B[43m,\u001B[49m\u001B[43m \u001B[49m\u001B[43my_ransom\u001B[49m\u001B[43m)\u001B[49m\n\u001B[32m     39\u001B[39m \u001B[38;5;66;03m# Importância\u001B[39;00m\n\u001B[32m     40\u001B[39m importancias = pd.Series(modelo.feature_importances_, index=X_ransom.columns).sort_values(ascending=\u001B[38;5;28;01mFalse\u001B[39;00m)\n",
      "\u001B[36mFile \u001B[39m\u001B[32m~\\miniconda3\\envs\\PythonProject\\Lib\\site-packages\\sklearn\\base.py:1365\u001B[39m, in \u001B[36m_fit_context.<locals>.decorator.<locals>.wrapper\u001B[39m\u001B[34m(estimator, *args, **kwargs)\u001B[39m\n\u001B[32m   1358\u001B[39m     estimator._validate_params()\n\u001B[32m   1360\u001B[39m \u001B[38;5;28;01mwith\u001B[39;00m config_context(\n\u001B[32m   1361\u001B[39m     skip_parameter_validation=(\n\u001B[32m   1362\u001B[39m         prefer_skip_nested_validation \u001B[38;5;129;01mor\u001B[39;00m global_skip_validation\n\u001B[32m   1363\u001B[39m     )\n\u001B[32m   1364\u001B[39m ):\n\u001B[32m-> \u001B[39m\u001B[32m1365\u001B[39m     \u001B[38;5;28;01mreturn\u001B[39;00m \u001B[43mfit_method\u001B[49m\u001B[43m(\u001B[49m\u001B[43mestimator\u001B[49m\u001B[43m,\u001B[49m\u001B[43m \u001B[49m\u001B[43m*\u001B[49m\u001B[43margs\u001B[49m\u001B[43m,\u001B[49m\u001B[43m \u001B[49m\u001B[43m*\u001B[49m\u001B[43m*\u001B[49m\u001B[43mkwargs\u001B[49m\u001B[43m)\u001B[49m\n",
      "\u001B[36mFile \u001B[39m\u001B[32m~\\miniconda3\\envs\\PythonProject\\Lib\\site-packages\\sklearn\\ensemble\\_forest.py:359\u001B[39m, in \u001B[36mBaseForest.fit\u001B[39m\u001B[34m(self, X, y, sample_weight)\u001B[39m\n\u001B[32m    356\u001B[39m \u001B[38;5;28;01mif\u001B[39;00m issparse(y):\n\u001B[32m    357\u001B[39m     \u001B[38;5;28;01mraise\u001B[39;00m \u001B[38;5;167;01mValueError\u001B[39;00m(\u001B[33m\"\u001B[39m\u001B[33msparse multilabel-indicator for y is not supported.\u001B[39m\u001B[33m\"\u001B[39m)\n\u001B[32m--> \u001B[39m\u001B[32m359\u001B[39m X, y = \u001B[43mvalidate_data\u001B[49m\u001B[43m(\u001B[49m\n\u001B[32m    360\u001B[39m \u001B[43m    \u001B[49m\u001B[38;5;28;43mself\u001B[39;49m\u001B[43m,\u001B[49m\n\u001B[32m    361\u001B[39m \u001B[43m    \u001B[49m\u001B[43mX\u001B[49m\u001B[43m,\u001B[49m\n\u001B[32m    362\u001B[39m \u001B[43m    \u001B[49m\u001B[43my\u001B[49m\u001B[43m,\u001B[49m\n\u001B[32m    363\u001B[39m \u001B[43m    \u001B[49m\u001B[43mmulti_output\u001B[49m\u001B[43m=\u001B[49m\u001B[38;5;28;43;01mTrue\u001B[39;49;00m\u001B[43m,\u001B[49m\n\u001B[32m    364\u001B[39m \u001B[43m    \u001B[49m\u001B[43maccept_sparse\u001B[49m\u001B[43m=\u001B[49m\u001B[33;43m\"\u001B[39;49m\u001B[33;43mcsc\u001B[39;49m\u001B[33;43m\"\u001B[39;49m\u001B[43m,\u001B[49m\n\u001B[32m    365\u001B[39m \u001B[43m    \u001B[49m\u001B[43mdtype\u001B[49m\u001B[43m=\u001B[49m\u001B[43mDTYPE\u001B[49m\u001B[43m,\u001B[49m\n\u001B[32m    366\u001B[39m \u001B[43m    \u001B[49m\u001B[43mensure_all_finite\u001B[49m\u001B[43m=\u001B[49m\u001B[38;5;28;43;01mFalse\u001B[39;49;00m\u001B[43m,\u001B[49m\n\u001B[32m    367\u001B[39m \u001B[43m\u001B[49m\u001B[43m)\u001B[49m\n\u001B[32m    368\u001B[39m \u001B[38;5;66;03m# _compute_missing_values_in_feature_mask checks if X has missing values and\u001B[39;00m\n\u001B[32m    369\u001B[39m \u001B[38;5;66;03m# will raise an error if the underlying tree base estimator can't handle missing\u001B[39;00m\n\u001B[32m    370\u001B[39m \u001B[38;5;66;03m# values. Only the criterion is required to determine if the tree supports\u001B[39;00m\n\u001B[32m    371\u001B[39m \u001B[38;5;66;03m# missing values.\u001B[39;00m\n\u001B[32m    372\u001B[39m estimator = \u001B[38;5;28mtype\u001B[39m(\u001B[38;5;28mself\u001B[39m.estimator)(criterion=\u001B[38;5;28mself\u001B[39m.criterion)\n",
      "\u001B[36mFile \u001B[39m\u001B[32m~\\miniconda3\\envs\\PythonProject\\Lib\\site-packages\\sklearn\\utils\\validation.py:2971\u001B[39m, in \u001B[36mvalidate_data\u001B[39m\u001B[34m(_estimator, X, y, reset, validate_separately, skip_check_array, **check_params)\u001B[39m\n\u001B[32m   2969\u001B[39m         y = check_array(y, input_name=\u001B[33m\"\u001B[39m\u001B[33my\u001B[39m\u001B[33m\"\u001B[39m, **check_y_params)\n\u001B[32m   2970\u001B[39m     \u001B[38;5;28;01melse\u001B[39;00m:\n\u001B[32m-> \u001B[39m\u001B[32m2971\u001B[39m         X, y = \u001B[43mcheck_X_y\u001B[49m\u001B[43m(\u001B[49m\u001B[43mX\u001B[49m\u001B[43m,\u001B[49m\u001B[43m \u001B[49m\u001B[43my\u001B[49m\u001B[43m,\u001B[49m\u001B[43m \u001B[49m\u001B[43m*\u001B[49m\u001B[43m*\u001B[49m\u001B[43mcheck_params\u001B[49m\u001B[43m)\u001B[49m\n\u001B[32m   2972\u001B[39m     out = X, y\n\u001B[32m   2974\u001B[39m \u001B[38;5;28;01mif\u001B[39;00m \u001B[38;5;129;01mnot\u001B[39;00m no_val_X \u001B[38;5;129;01mand\u001B[39;00m check_params.get(\u001B[33m\"\u001B[39m\u001B[33mensure_2d\u001B[39m\u001B[33m\"\u001B[39m, \u001B[38;5;28;01mTrue\u001B[39;00m):\n",
      "\u001B[36mFile \u001B[39m\u001B[32m~\\miniconda3\\envs\\PythonProject\\Lib\\site-packages\\sklearn\\utils\\validation.py:1368\u001B[39m, in \u001B[36mcheck_X_y\u001B[39m\u001B[34m(X, y, accept_sparse, accept_large_sparse, dtype, order, copy, force_writeable, force_all_finite, ensure_all_finite, ensure_2d, allow_nd, multi_output, ensure_min_samples, ensure_min_features, y_numeric, estimator)\u001B[39m\n\u001B[32m   1362\u001B[39m     \u001B[38;5;28;01mraise\u001B[39;00m \u001B[38;5;167;01mValueError\u001B[39;00m(\n\u001B[32m   1363\u001B[39m         \u001B[33mf\u001B[39m\u001B[33m\"\u001B[39m\u001B[38;5;132;01m{\u001B[39;00mestimator_name\u001B[38;5;132;01m}\u001B[39;00m\u001B[33m requires y to be passed, but the target y is None\u001B[39m\u001B[33m\"\u001B[39m\n\u001B[32m   1364\u001B[39m     )\n\u001B[32m   1366\u001B[39m ensure_all_finite = _deprecate_force_all_finite(force_all_finite, ensure_all_finite)\n\u001B[32m-> \u001B[39m\u001B[32m1368\u001B[39m X = \u001B[43mcheck_array\u001B[49m\u001B[43m(\u001B[49m\n\u001B[32m   1369\u001B[39m \u001B[43m    \u001B[49m\u001B[43mX\u001B[49m\u001B[43m,\u001B[49m\n\u001B[32m   1370\u001B[39m \u001B[43m    \u001B[49m\u001B[43maccept_sparse\u001B[49m\u001B[43m=\u001B[49m\u001B[43maccept_sparse\u001B[49m\u001B[43m,\u001B[49m\n\u001B[32m   1371\u001B[39m \u001B[43m    \u001B[49m\u001B[43maccept_large_sparse\u001B[49m\u001B[43m=\u001B[49m\u001B[43maccept_large_sparse\u001B[49m\u001B[43m,\u001B[49m\n\u001B[32m   1372\u001B[39m \u001B[43m    \u001B[49m\u001B[43mdtype\u001B[49m\u001B[43m=\u001B[49m\u001B[43mdtype\u001B[49m\u001B[43m,\u001B[49m\n\u001B[32m   1373\u001B[39m \u001B[43m    \u001B[49m\u001B[43morder\u001B[49m\u001B[43m=\u001B[49m\u001B[43morder\u001B[49m\u001B[43m,\u001B[49m\n\u001B[32m   1374\u001B[39m \u001B[43m    \u001B[49m\u001B[43mcopy\u001B[49m\u001B[43m=\u001B[49m\u001B[43mcopy\u001B[49m\u001B[43m,\u001B[49m\n\u001B[32m   1375\u001B[39m \u001B[43m    \u001B[49m\u001B[43mforce_writeable\u001B[49m\u001B[43m=\u001B[49m\u001B[43mforce_writeable\u001B[49m\u001B[43m,\u001B[49m\n\u001B[32m   1376\u001B[39m \u001B[43m    \u001B[49m\u001B[43mensure_all_finite\u001B[49m\u001B[43m=\u001B[49m\u001B[43mensure_all_finite\u001B[49m\u001B[43m,\u001B[49m\n\u001B[32m   1377\u001B[39m \u001B[43m    \u001B[49m\u001B[43mensure_2d\u001B[49m\u001B[43m=\u001B[49m\u001B[43mensure_2d\u001B[49m\u001B[43m,\u001B[49m\n\u001B[32m   1378\u001B[39m \u001B[43m    \u001B[49m\u001B[43mallow_nd\u001B[49m\u001B[43m=\u001B[49m\u001B[43mallow_nd\u001B[49m\u001B[43m,\u001B[49m\n\u001B[32m   1379\u001B[39m \u001B[43m    \u001B[49m\u001B[43mensure_min_samples\u001B[49m\u001B[43m=\u001B[49m\u001B[43mensure_min_samples\u001B[49m\u001B[43m,\u001B[49m\n\u001B[32m   1380\u001B[39m \u001B[43m    \u001B[49m\u001B[43mensure_min_features\u001B[49m\u001B[43m=\u001B[49m\u001B[43mensure_min_features\u001B[49m\u001B[43m,\u001B[49m\n\u001B[32m   1381\u001B[39m \u001B[43m    \u001B[49m\u001B[43mestimator\u001B[49m\u001B[43m=\u001B[49m\u001B[43mestimator\u001B[49m\u001B[43m,\u001B[49m\n\u001B[32m   1382\u001B[39m \u001B[43m    \u001B[49m\u001B[43minput_name\u001B[49m\u001B[43m=\u001B[49m\u001B[33;43m\"\u001B[39;49m\u001B[33;43mX\u001B[39;49m\u001B[33;43m\"\u001B[39;49m\u001B[43m,\u001B[49m\n\u001B[32m   1383\u001B[39m \u001B[43m\u001B[49m\u001B[43m)\u001B[49m\n\u001B[32m   1385\u001B[39m y = _check_y(y, multi_output=multi_output, y_numeric=y_numeric, estimator=estimator)\n\u001B[32m   1387\u001B[39m check_consistent_length(X, y)\n",
      "\u001B[36mFile \u001B[39m\u001B[32m~\\miniconda3\\envs\\PythonProject\\Lib\\site-packages\\sklearn\\utils\\validation.py:1053\u001B[39m, in \u001B[36mcheck_array\u001B[39m\u001B[34m(array, accept_sparse, accept_large_sparse, dtype, order, copy, force_writeable, force_all_finite, ensure_all_finite, ensure_non_negative, ensure_2d, allow_nd, ensure_min_samples, ensure_min_features, estimator, input_name)\u001B[39m\n\u001B[32m   1051\u001B[39m         array = xp.astype(array, dtype, copy=\u001B[38;5;28;01mFalse\u001B[39;00m)\n\u001B[32m   1052\u001B[39m     \u001B[38;5;28;01melse\u001B[39;00m:\n\u001B[32m-> \u001B[39m\u001B[32m1053\u001B[39m         array = \u001B[43m_asarray_with_order\u001B[49m\u001B[43m(\u001B[49m\u001B[43marray\u001B[49m\u001B[43m,\u001B[49m\u001B[43m \u001B[49m\u001B[43morder\u001B[49m\u001B[43m=\u001B[49m\u001B[43morder\u001B[49m\u001B[43m,\u001B[49m\u001B[43m \u001B[49m\u001B[43mdtype\u001B[49m\u001B[43m=\u001B[49m\u001B[43mdtype\u001B[49m\u001B[43m,\u001B[49m\u001B[43m \u001B[49m\u001B[43mxp\u001B[49m\u001B[43m=\u001B[49m\u001B[43mxp\u001B[49m\u001B[43m)\u001B[49m\n\u001B[32m   1054\u001B[39m \u001B[38;5;28;01mexcept\u001B[39;00m ComplexWarning \u001B[38;5;28;01mas\u001B[39;00m complex_warning:\n\u001B[32m   1055\u001B[39m     \u001B[38;5;28;01mraise\u001B[39;00m \u001B[38;5;167;01mValueError\u001B[39;00m(\n\u001B[32m   1056\u001B[39m         \u001B[33m\"\u001B[39m\u001B[33mComplex data not supported\u001B[39m\u001B[38;5;130;01m\\n\u001B[39;00m\u001B[38;5;132;01m{}\u001B[39;00m\u001B[38;5;130;01m\\n\u001B[39;00m\u001B[33m\"\u001B[39m.format(array)\n\u001B[32m   1057\u001B[39m     ) \u001B[38;5;28;01mfrom\u001B[39;00m\u001B[38;5;250m \u001B[39m\u001B[34;01mcomplex_warning\u001B[39;00m\n",
      "\u001B[36mFile \u001B[39m\u001B[32m~\\miniconda3\\envs\\PythonProject\\Lib\\site-packages\\sklearn\\utils\\_array_api.py:757\u001B[39m, in \u001B[36m_asarray_with_order\u001B[39m\u001B[34m(array, dtype, order, copy, xp, device)\u001B[39m\n\u001B[32m    755\u001B[39m     array = numpy.array(array, order=order, dtype=dtype)\n\u001B[32m    756\u001B[39m \u001B[38;5;28;01melse\u001B[39;00m:\n\u001B[32m--> \u001B[39m\u001B[32m757\u001B[39m     array = \u001B[43mnumpy\u001B[49m\u001B[43m.\u001B[49m\u001B[43masarray\u001B[49m\u001B[43m(\u001B[49m\u001B[43marray\u001B[49m\u001B[43m,\u001B[49m\u001B[43m \u001B[49m\u001B[43morder\u001B[49m\u001B[43m=\u001B[49m\u001B[43morder\u001B[49m\u001B[43m,\u001B[49m\u001B[43m \u001B[49m\u001B[43mdtype\u001B[49m\u001B[43m=\u001B[49m\u001B[43mdtype\u001B[49m\u001B[43m)\u001B[49m\n\u001B[32m    759\u001B[39m \u001B[38;5;66;03m# At this point array is a NumPy ndarray. We convert it to an array\u001B[39;00m\n\u001B[32m    760\u001B[39m \u001B[38;5;66;03m# container that is consistent with the input's namespace.\u001B[39;00m\n\u001B[32m    761\u001B[39m \u001B[38;5;28;01mreturn\u001B[39;00m xp.asarray(array)\n",
      "\u001B[36mFile \u001B[39m\u001B[32m~\\miniconda3\\envs\\PythonProject\\Lib\\site-packages\\pandas\\core\\generic.py:2165\u001B[39m, in \u001B[36mNDFrame.__array__\u001B[39m\u001B[34m(self, dtype, copy)\u001B[39m\n\u001B[32m   2152\u001B[39m \u001B[38;5;28;01mif\u001B[39;00m copy \u001B[38;5;129;01mis\u001B[39;00m \u001B[38;5;28;01mFalse\u001B[39;00m \u001B[38;5;129;01mand\u001B[39;00m \u001B[38;5;129;01mnot\u001B[39;00m \u001B[38;5;28mself\u001B[39m._mgr.is_single_block \u001B[38;5;129;01mand\u001B[39;00m \u001B[38;5;129;01mnot\u001B[39;00m \u001B[38;5;28mself\u001B[39m.empty:\n\u001B[32m   2153\u001B[39m     \u001B[38;5;66;03m# check this manually, otherwise ._values will already return a copy\u001B[39;00m\n\u001B[32m   2154\u001B[39m     \u001B[38;5;66;03m# and np.array(values, copy=False) will not raise a warning\u001B[39;00m\n\u001B[32m   2155\u001B[39m     warnings.warn(\n\u001B[32m   2156\u001B[39m         \u001B[33m\"\u001B[39m\u001B[33mStarting with NumPy 2.0, the behavior of the \u001B[39m\u001B[33m'\u001B[39m\u001B[33mcopy\u001B[39m\u001B[33m'\u001B[39m\u001B[33m keyword has \u001B[39m\u001B[33m\"\u001B[39m\n\u001B[32m   2157\u001B[39m         \u001B[33m\"\u001B[39m\u001B[33mchanged and passing \u001B[39m\u001B[33m'\u001B[39m\u001B[33mcopy=False\u001B[39m\u001B[33m'\u001B[39m\u001B[33m raises an error when returning \u001B[39m\u001B[33m\"\u001B[39m\n\u001B[32m   (...)\u001B[39m\u001B[32m   2163\u001B[39m         stacklevel=find_stack_level(),\n\u001B[32m   2164\u001B[39m     )\n\u001B[32m-> \u001B[39m\u001B[32m2165\u001B[39m values = \u001B[38;5;28;43mself\u001B[39;49m\u001B[43m.\u001B[49m\u001B[43m_values\u001B[49m\n\u001B[32m   2166\u001B[39m \u001B[38;5;28;01mif\u001B[39;00m copy \u001B[38;5;129;01mis\u001B[39;00m \u001B[38;5;28;01mNone\u001B[39;00m:\n\u001B[32m   2167\u001B[39m     \u001B[38;5;66;03m# Note: branch avoids `copy=None` for NumPy 1.x support\u001B[39;00m\n\u001B[32m   2168\u001B[39m     arr = np.asarray(values, dtype=dtype)\n",
      "\u001B[36mFile \u001B[39m\u001B[32m~\\miniconda3\\envs\\PythonProject\\Lib\\site-packages\\pandas\\core\\frame.py:1127\u001B[39m, in \u001B[36mDataFrame._values\u001B[39m\u001B[34m(self)\u001B[39m\n\u001B[32m   1125\u001B[39m blocks = mgr.blocks\n\u001B[32m   1126\u001B[39m \u001B[38;5;28;01mif\u001B[39;00m \u001B[38;5;28mlen\u001B[39m(blocks) != \u001B[32m1\u001B[39m:\n\u001B[32m-> \u001B[39m\u001B[32m1127\u001B[39m     \u001B[38;5;28;01mreturn\u001B[39;00m ensure_wrapped_if_datetimelike(\u001B[38;5;28;43mself\u001B[39;49m\u001B[43m.\u001B[49m\u001B[43mvalues\u001B[49m)\n\u001B[32m   1129\u001B[39m arr = blocks[\u001B[32m0\u001B[39m].values\n\u001B[32m   1130\u001B[39m \u001B[38;5;28;01mif\u001B[39;00m arr.ndim == \u001B[32m1\u001B[39m:\n\u001B[32m   1131\u001B[39m     \u001B[38;5;66;03m# non-2D ExtensionArray\u001B[39;00m\n",
      "\u001B[36mFile \u001B[39m\u001B[32m~\\miniconda3\\envs\\PythonProject\\Lib\\site-packages\\pandas\\core\\frame.py:12671\u001B[39m, in \u001B[36mDataFrame.values\u001B[39m\u001B[34m(self)\u001B[39m\n\u001B[32m  12597\u001B[39m \u001B[38;5;129m@property\u001B[39m\n\u001B[32m  12598\u001B[39m \u001B[38;5;28;01mdef\u001B[39;00m\u001B[38;5;250m \u001B[39m\u001B[34mvalues\u001B[39m(\u001B[38;5;28mself\u001B[39m) -> np.ndarray:\n\u001B[32m  12599\u001B[39m \u001B[38;5;250m    \u001B[39m\u001B[33;03m\"\"\"\u001B[39;00m\n\u001B[32m  12600\u001B[39m \u001B[33;03m    Return a Numpy representation of the DataFrame.\u001B[39;00m\n\u001B[32m  12601\u001B[39m \n\u001B[32m   (...)\u001B[39m\u001B[32m  12669\u001B[39m \u001B[33;03m           ['monkey', nan, None]], dtype=object)\u001B[39;00m\n\u001B[32m  12670\u001B[39m \u001B[33;03m    \"\"\"\u001B[39;00m\n\u001B[32m> \u001B[39m\u001B[32m12671\u001B[39m     \u001B[38;5;28;01mreturn\u001B[39;00m \u001B[38;5;28;43mself\u001B[39;49m\u001B[43m.\u001B[49m\u001B[43m_mgr\u001B[49m\u001B[43m.\u001B[49m\u001B[43mas_array\u001B[49m\u001B[43m(\u001B[49m\u001B[43m)\u001B[49m\n",
      "\u001B[36mFile \u001B[39m\u001B[32m~\\miniconda3\\envs\\PythonProject\\Lib\\site-packages\\pandas\\core\\internals\\managers.py:1694\u001B[39m, in \u001B[36mBlockManager.as_array\u001B[39m\u001B[34m(self, dtype, copy, na_value)\u001B[39m\n\u001B[32m   1692\u001B[39m         arr.flags.writeable = \u001B[38;5;28;01mFalse\u001B[39;00m\n\u001B[32m   1693\u001B[39m \u001B[38;5;28;01melse\u001B[39;00m:\n\u001B[32m-> \u001B[39m\u001B[32m1694\u001B[39m     arr = \u001B[38;5;28;43mself\u001B[39;49m\u001B[43m.\u001B[49m\u001B[43m_interleave\u001B[49m\u001B[43m(\u001B[49m\u001B[43mdtype\u001B[49m\u001B[43m=\u001B[49m\u001B[43mdtype\u001B[49m\u001B[43m,\u001B[49m\u001B[43m \u001B[49m\u001B[43mna_value\u001B[49m\u001B[43m=\u001B[49m\u001B[43mna_value\u001B[49m\u001B[43m)\u001B[49m\n\u001B[32m   1695\u001B[39m     \u001B[38;5;66;03m# The underlying data was copied within _interleave, so no need\u001B[39;00m\n\u001B[32m   1696\u001B[39m     \u001B[38;5;66;03m# to further copy if copy=True or setting na_value\u001B[39;00m\n\u001B[32m   1698\u001B[39m \u001B[38;5;28;01mif\u001B[39;00m na_value \u001B[38;5;129;01mis\u001B[39;00m lib.no_default:\n",
      "\u001B[36mFile \u001B[39m\u001B[32m~\\miniconda3\\envs\\PythonProject\\Lib\\site-packages\\pandas\\core\\internals\\managers.py:1727\u001B[39m, in \u001B[36mBlockManager._interleave\u001B[39m\u001B[34m(self, dtype, na_value)\u001B[39m\n\u001B[32m   1724\u001B[39m \u001B[38;5;66;03m# error: Argument 1 to \"ensure_np_dtype\" has incompatible type\u001B[39;00m\n\u001B[32m   1725\u001B[39m \u001B[38;5;66;03m# \"Optional[dtype[Any]]\"; expected \"Union[dtype[Any], ExtensionDtype]\"\u001B[39;00m\n\u001B[32m   1726\u001B[39m dtype = ensure_np_dtype(dtype)  \u001B[38;5;66;03m# type: ignore[arg-type]\u001B[39;00m\n\u001B[32m-> \u001B[39m\u001B[32m1727\u001B[39m result = \u001B[43mnp\u001B[49m\u001B[43m.\u001B[49m\u001B[43mempty\u001B[49m\u001B[43m(\u001B[49m\u001B[38;5;28;43mself\u001B[39;49m\u001B[43m.\u001B[49m\u001B[43mshape\u001B[49m\u001B[43m,\u001B[49m\u001B[43m \u001B[49m\u001B[43mdtype\u001B[49m\u001B[43m=\u001B[49m\u001B[43mdtype\u001B[49m\u001B[43m)\u001B[49m\n\u001B[32m   1729\u001B[39m itemmask = np.zeros(\u001B[38;5;28mself\u001B[39m.shape[\u001B[32m0\u001B[39m])\n\u001B[32m   1731\u001B[39m \u001B[38;5;28;01mif\u001B[39;00m dtype == np.dtype(\u001B[33m\"\u001B[39m\u001B[33mobject\u001B[39m\u001B[33m\"\u001B[39m) \u001B[38;5;129;01mand\u001B[39;00m na_value \u001B[38;5;129;01mis\u001B[39;00m lib.no_default:\n\u001B[32m   1732\u001B[39m     \u001B[38;5;66;03m# much more performant than using to_numpy below\u001B[39;00m\n",
      "\u001B[31mMemoryError\u001B[39m: Unable to allocate 29.1 GiB for an array with shape (124985, 62485) and data type float32"
     ]
    }
   ],
   "execution_count": 1
  }
 ],
 "metadata": {
  "kernelspec": {
   "display_name": "Python 3",
   "language": "python",
   "name": "python3"
  },
  "language_info": {
   "codemirror_mode": {
    "name": "ipython",
    "version": 2
   },
   "file_extension": ".py",
   "mimetype": "text/x-python",
   "name": "python",
   "nbconvert_exporter": "python",
   "pygments_lexer": "ipython2",
   "version": "2.7.6"
  }
 },
 "nbformat": 4,
 "nbformat_minor": 5
}
