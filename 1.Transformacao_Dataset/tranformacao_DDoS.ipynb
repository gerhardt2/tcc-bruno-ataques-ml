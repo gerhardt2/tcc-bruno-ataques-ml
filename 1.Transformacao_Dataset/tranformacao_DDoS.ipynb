{
 "cells": [
  {
   "cell_type": "code",
   "id": "initial_id",
   "metadata": {
    "collapsed": true,
    "ExecuteTime": {
     "end_time": "2025-09-21T17:27:41.744964Z",
     "start_time": "2025-09-21T17:27:39.542151Z"
    }
   },
   "source": [
    "import pandas as pd\n",
    "import matplotlib.pyplot as plt\n",
    "from sklearn.ensemble import RandomForestClassifier\n",
    "import os\n",
    "\n",
    "# Caminho relativo ao dataset\n",
    "caminho_ddos = \"../datasets/DDoS.csv\"\n",
    "\n",
    "# Leitura do dataset\n",
    "try:\n",
    "    df_ddos = pd.read_csv(caminho_ddos, encoding=\"utf-8\")\n",
    "except UnicodeDecodeError:\n",
    "    df_ddos = pd.read_csv(caminho_ddos, encoding=\"ISO-8859-1\")\n",
    "\n",
    "# Preview\n",
    "print(df_ddos.head())\n",
    "\n",
    "# Colunas não numéricas\n",
    "colunas_nao_numericas = df_ddos.select_dtypes(include=['object']).columns.tolist()\n",
    "print(\"Colunas não numéricas:\", colunas_nao_numericas)\n",
    "\n",
    "# Dummy variables\n",
    "df_dummies = pd.get_dummies(df_ddos, columns=colunas_nao_numericas)\n",
    "\n",
    "# Coluna alvo\n",
    "coluna_alvo = [col for col in df_dummies.columns if 'attack' in col.lower() or 'label' in col.lower()]\n",
    "if not coluna_alvo:\n",
    "    raise ValueError(\"Nenhuma coluna 'attack' ou 'label' encontrada.\")\n",
    "coluna_alvo = coluna_alvo[0]\n",
    "\n",
    "# Separar X e y\n",
    "y_ddos = df_dummies[coluna_alvo]\n",
    "X_ddos = df_dummies.drop(columns=[coluna_alvo])\n",
    "\n",
    "# Treinamento\n",
    "modelo = RandomForestClassifier(n_estimators=100, random_state=42)\n",
    "modelo.fit(X_ddos, y_ddos)\n",
    "\n",
    "# Importância\n",
    "importancias = pd.Series(modelo.feature_importances_, index=X_ddos.columns).sort_values(ascending=False)\n",
    "\n",
    "# Plot\n",
    "importancias.head(10).plot(kind='barh')\n",
    "plt.title(\"Top 10 Importâncias - DDoS\")\n",
    "plt.gca().invert_yaxis()\n",
    "plt.tight_layout()\n",
    "plt.show()\n"
   ],
   "outputs": [
    {
     "name": "stdout",
     "output_type": "stream",
     "text": [
      "  Highest Layer Transport Layer  Source IP       Dest IP  Source Port  \\\n",
      "0           ARP             UDP          1   192.168.1.1            0   \n",
      "1           ARP             UDP          0  192.168.1.10            0   \n",
      "2           ARP             UDP          1   192.168.1.1            0   \n",
      "3           ARP             UDP          0  192.168.1.12            0   \n",
      "4           ARP             UDP          1   192.168.1.1            0   \n",
      "\n",
      "   Dest Port  Packet Length  Packets/Time  target  \n",
      "0          0             60          92.8       1  \n",
      "1          0             42          92.9       0  \n",
      "2          0             60         362.8       1  \n",
      "3          0             42         362.8       0  \n",
      "4          0             60         364.3       1  \n",
      "Colunas não numéricas: ['Highest Layer', 'Transport Layer', 'Dest IP']\n"
     ]
    },
    {
     "ename": "ValueError",
     "evalue": "Nenhuma coluna 'attack' ou 'label' encontrada.",
     "output_type": "error",
     "traceback": [
      "\u001B[31m---------------------------------------------------------------------------\u001B[39m",
      "\u001B[31mValueError\u001B[39m                                Traceback (most recent call last)",
      "\u001B[36mCell\u001B[39m\u001B[36m \u001B[39m\u001B[32mIn[1]\u001B[39m\u001B[32m, line 28\u001B[39m\n\u001B[32m     26\u001B[39m coluna_alvo = [col \u001B[38;5;28;01mfor\u001B[39;00m col \u001B[38;5;129;01min\u001B[39;00m df_dummies.columns \u001B[38;5;28;01mif\u001B[39;00m \u001B[33m'\u001B[39m\u001B[33mattack\u001B[39m\u001B[33m'\u001B[39m \u001B[38;5;129;01min\u001B[39;00m col.lower() \u001B[38;5;129;01mor\u001B[39;00m \u001B[33m'\u001B[39m\u001B[33mlabel\u001B[39m\u001B[33m'\u001B[39m \u001B[38;5;129;01min\u001B[39;00m col.lower()]\n\u001B[32m     27\u001B[39m \u001B[38;5;28;01mif\u001B[39;00m \u001B[38;5;129;01mnot\u001B[39;00m coluna_alvo:\n\u001B[32m---> \u001B[39m\u001B[32m28\u001B[39m     \u001B[38;5;28;01mraise\u001B[39;00m \u001B[38;5;167;01mValueError\u001B[39;00m(\u001B[33m\"\u001B[39m\u001B[33mNenhuma coluna \u001B[39m\u001B[33m'\u001B[39m\u001B[33mattack\u001B[39m\u001B[33m'\u001B[39m\u001B[33m ou \u001B[39m\u001B[33m'\u001B[39m\u001B[33mlabel\u001B[39m\u001B[33m'\u001B[39m\u001B[33m encontrada.\u001B[39m\u001B[33m\"\u001B[39m)\n\u001B[32m     29\u001B[39m coluna_alvo = coluna_alvo[\u001B[32m0\u001B[39m]\n\u001B[32m     31\u001B[39m \u001B[38;5;66;03m# Separar X e y\u001B[39;00m\n",
      "\u001B[31mValueError\u001B[39m: Nenhuma coluna 'attack' ou 'label' encontrada."
     ]
    }
   ],
   "execution_count": 1
  }
 ],
 "metadata": {
  "kernelspec": {
   "display_name": "Python 3",
   "language": "python",
   "name": "python3"
  },
  "language_info": {
   "codemirror_mode": {
    "name": "ipython",
    "version": 2
   },
   "file_extension": ".py",
   "mimetype": "text/x-python",
   "name": "python",
   "nbconvert_exporter": "python",
   "pygments_lexer": "ipython2",
   "version": "2.7.6"
  }
 },
 "nbformat": 4,
 "nbformat_minor": 5
}
